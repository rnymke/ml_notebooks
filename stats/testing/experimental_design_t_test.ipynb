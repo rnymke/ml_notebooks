{
 "cells": [
  {
   "cell_type": "code",
   "execution_count": 78,
   "metadata": {},
   "outputs": [],
   "source": [
    "import pandas as pd\n",
    "import matplotlib.pyplot as plt\n",
    "from scipy.stats import norm\n",
    "import numpy as np"
   ]
  },
  {
   "cell_type": "markdown",
   "metadata": {},
   "source": [
    "# Background colour, two sample t-test\n",
    "Dataset contains data with time taken reading a text on two different background colors (cyan, yellow). id identifies the test participan, "
   ]
  },
  {
   "cell_type": "code",
   "execution_count": 4,
   "metadata": {},
   "outputs": [],
   "source": [
    "df = pd.read_spss(\"background.sav\")"
   ]
  },
  {
   "cell_type": "code",
   "execution_count": 32,
   "metadata": {},
   "outputs": [],
   "source": [
    "# Rename faulty column name and drop id\n",
    "df = df.rename(columns={\"cyan\": \"colour\"})\n",
    "df = df.drop(columns=[\"id\"])"
   ]
  },
  {
   "cell_type": "code",
   "execution_count": 12,
   "metadata": {},
   "outputs": [],
   "source": [
    "# Encode cyan = 0, yellow = 1\n",
    "df = df.replace({\"cyan\": 0, \"yellow\": 1})"
   ]
  },
  {
   "cell_type": "code",
   "execution_count": 33,
   "metadata": {},
   "outputs": [
    {
     "data": {
      "text/html": [
       "<div>\n",
       "<style scoped>\n",
       "    .dataframe tbody tr th:only-of-type {\n",
       "        vertical-align: middle;\n",
       "    }\n",
       "\n",
       "    .dataframe tbody tr th {\n",
       "        vertical-align: top;\n",
       "    }\n",
       "\n",
       "    .dataframe thead tr th {\n",
       "        text-align: left;\n",
       "    }\n",
       "\n",
       "    .dataframe thead tr:last-of-type th {\n",
       "        text-align: right;\n",
       "    }\n",
       "</style>\n",
       "<table border=\"1\" class=\"dataframe\">\n",
       "  <thead>\n",
       "    <tr>\n",
       "      <th></th>\n",
       "      <th colspan=\"3\" halign=\"left\">time</th>\n",
       "    </tr>\n",
       "    <tr>\n",
       "      <th></th>\n",
       "      <th>count</th>\n",
       "      <th>mean</th>\n",
       "      <th>std</th>\n",
       "    </tr>\n",
       "    <tr>\n",
       "      <th>colour</th>\n",
       "      <th></th>\n",
       "      <th></th>\n",
       "      <th></th>\n",
       "    </tr>\n",
       "  </thead>\n",
       "  <tbody>\n",
       "    <tr>\n",
       "      <th>0</th>\n",
       "      <td>18</td>\n",
       "      <td>660.944444</td>\n",
       "      <td>202.038864</td>\n",
       "    </tr>\n",
       "    <tr>\n",
       "      <th>1</th>\n",
       "      <td>17</td>\n",
       "      <td>679.647059</td>\n",
       "      <td>159.386692</td>\n",
       "    </tr>\n",
       "  </tbody>\n",
       "</table>\n",
       "</div>"
      ],
      "text/plain": [
       "        time                        \n",
       "       count        mean         std\n",
       "colour                              \n",
       "0         18  660.944444  202.038864\n",
       "1         17  679.647059  159.386692"
      ]
     },
     "execution_count": 33,
     "metadata": {},
     "output_type": "execute_result"
    }
   ],
   "source": [
    "df.groupby(\"colour\").agg({'time': ['count', 'mean', 'std']})"
   ]
  },
  {
   "cell_type": "code",
   "execution_count": 49,
   "metadata": {},
   "outputs": [
    {
     "data": {
      "text/plain": [
       "(array([2., 3., 1., 4., 2., 5.]),\n",
       " array([392.        , 477.66666667, 563.33333333, 649.        ,\n",
       "        734.66666667, 820.33333333, 906.        ]),\n",
       " <BarContainer object of 6 artists>)"
      ]
     },
     "execution_count": 49,
     "metadata": {},
     "output_type": "execute_result"
    },
    {
     "data": {
      "image/png": "[encoded data removed]",
      "text/plain": [
       "<Figure size 432x288 with 1 Axes>"
      ]
     },
     "metadata": {
      "needs_background": "light"
     },
     "output_type": "display_data"
    }
   ],
   "source": [
    "plt.hist(df.loc[df['colour']==0]['time'], bins='auto', label='cyan', alpha=0.5)\n",
    "plt.hist(df.loc[df['colour']==1]['time'], bins='auto', label='yellow', alpha=0.5)"
   ]
  },
  {
   "cell_type": "code",
   "execution_count": 53,
   "metadata": {},
   "outputs": [
    {
     "data": {
      "text/html": [
       "<div>\n",
       "<style scoped>\n",
       "    .dataframe tbody tr th:only-of-type {\n",
       "        vertical-align: middle;\n",
       "    }\n",
       "\n",
       "    .dataframe tbody tr th {\n",
       "        vertical-align: top;\n",
       "    }\n",
       "\n",
       "    .dataframe thead th {\n",
       "        text-align: right;\n",
       "    }\n",
       "</style>\n",
       "<table border=\"1\" class=\"dataframe\">\n",
       "  <thead>\n",
       "    <tr style=\"text-align: right;\">\n",
       "      <th></th>\n",
       "      <th>colour</th>\n",
       "      <th>time</th>\n",
       "    </tr>\n",
       "  </thead>\n",
       "  <tbody>\n",
       "    <tr>\n",
       "      <th>count</th>\n",
       "      <td>18.0</td>\n",
       "      <td>18.000000</td>\n",
       "    </tr>\n",
       "    <tr>\n",
       "      <th>mean</th>\n",
       "      <td>0.0</td>\n",
       "      <td>660.944444</td>\n",
       "    </tr>\n",
       "    <tr>\n",
       "      <th>std</th>\n",
       "      <td>0.0</td>\n",
       "      <td>202.038864</td>\n",
       "    </tr>\n",
       "    <tr>\n",
       "      <th>min</th>\n",
       "      <td>0.0</td>\n",
       "      <td>291.000000</td>\n",
       "    </tr>\n",
       "    <tr>\n",
       "      <th>25%</th>\n",
       "      <td>0.0</td>\n",
       "      <td>475.750000</td>\n",
       "    </tr>\n",
       "    <tr>\n",
       "      <th>50%</th>\n",
       "      <td>0.0</td>\n",
       "      <td>649.500000</td>\n",
       "    </tr>\n",
       "    <tr>\n",
       "      <th>75%</th>\n",
       "      <td>0.0</td>\n",
       "      <td>827.250000</td>\n",
       "    </tr>\n",
       "    <tr>\n",
       "      <th>max</th>\n",
       "      <td>0.0</td>\n",
       "      <td>1005.000000</td>\n",
       "    </tr>\n",
       "  </tbody>\n",
       "</table>\n",
       "</div>"
      ],
      "text/plain": [
       "       colour         time\n",
       "count    18.0    18.000000\n",
       "mean      0.0   660.944444\n",
       "std       0.0   202.038864\n",
       "min       0.0   291.000000\n",
       "25%       0.0   475.750000\n",
       "50%       0.0   649.500000\n",
       "75%       0.0   827.250000\n",
       "max       0.0  1005.000000"
      ]
     },
     "execution_count": 53,
     "metadata": {},
     "output_type": "execute_result"
    }
   ],
   "source": [
    "df.loc[df['colour']==0].describe()"
   ]
  },
  {
   "cell_type": "code",
   "execution_count": 52,
   "metadata": {},
   "outputs": [
    {
     "data": {
      "text/html": [
       "<div>\n",
       "<style scoped>\n",
       "    .dataframe tbody tr th:only-of-type {\n",
       "        vertical-align: middle;\n",
       "    }\n",
       "\n",
       "    .dataframe tbody tr th {\n",
       "        vertical-align: top;\n",
       "    }\n",
       "\n",
       "    .dataframe thead th {\n",
       "        text-align: right;\n",
       "    }\n",
       "</style>\n",
       "<table border=\"1\" class=\"dataframe\">\n",
       "  <thead>\n",
       "    <tr style=\"text-align: right;\">\n",
       "      <th></th>\n",
       "      <th>colour</th>\n",
       "      <th>time</th>\n",
       "    </tr>\n",
       "  </thead>\n",
       "  <tbody>\n",
       "    <tr>\n",
       "      <th>count</th>\n",
       "      <td>17.0</td>\n",
       "      <td>17.000000</td>\n",
       "    </tr>\n",
       "    <tr>\n",
       "      <th>mean</th>\n",
       "      <td>1.0</td>\n",
       "      <td>679.647059</td>\n",
       "    </tr>\n",
       "    <tr>\n",
       "      <th>std</th>\n",
       "      <td>0.0</td>\n",
       "      <td>159.386692</td>\n",
       "    </tr>\n",
       "    <tr>\n",
       "      <th>min</th>\n",
       "      <td>1.0</td>\n",
       "      <td>392.000000</td>\n",
       "    </tr>\n",
       "    <tr>\n",
       "      <th>25%</th>\n",
       "      <td>1.0</td>\n",
       "      <td>559.000000</td>\n",
       "    </tr>\n",
       "    <tr>\n",
       "      <th>50%</th>\n",
       "      <td>1.0</td>\n",
       "      <td>695.000000</td>\n",
       "    </tr>\n",
       "    <tr>\n",
       "      <th>75%</th>\n",
       "      <td>1.0</td>\n",
       "      <td>833.000000</td>\n",
       "    </tr>\n",
       "    <tr>\n",
       "      <th>max</th>\n",
       "      <td>1.0</td>\n",
       "      <td>906.000000</td>\n",
       "    </tr>\n",
       "  </tbody>\n",
       "</table>\n",
       "</div>"
      ],
      "text/plain": [
       "       colour        time\n",
       "count    17.0   17.000000\n",
       "mean      1.0  679.647059\n",
       "std       0.0  159.386692\n",
       "min       1.0  392.000000\n",
       "25%       1.0  559.000000\n",
       "50%       1.0  695.000000\n",
       "75%       1.0  833.000000\n",
       "max       1.0  906.000000"
      ]
     },
     "execution_count": 52,
     "metadata": {},
     "output_type": "execute_result"
    }
   ],
   "source": [
    "df.loc[df['colour']==1].describe()"
   ]
  },
  {
   "cell_type": "code",
   "execution_count": 58,
   "metadata": {},
   "outputs": [
    {
     "data": {
      "text/plain": [
       "{'whiskers': [<matplotlib.lines.Line2D at 0x1de20849190>,\n",
       "  <matplotlib.lines.Line2D at 0x1de208494f0>,\n",
       "  <matplotlib.lines.Line2D at 0x1de20857910>,\n",
       "  <matplotlib.lines.Line2D at 0x1de20857c70>],\n",
       " 'caps': [<matplotlib.lines.Line2D at 0x1de20849850>,\n",
       "  <matplotlib.lines.Line2D at 0x1de20849b50>,\n",
       "  <matplotlib.lines.Line2D at 0x1de20857fd0>,\n",
       "  <matplotlib.lines.Line2D at 0x1de20861370>],\n",
       " 'boxes': [<matplotlib.lines.Line2D at 0x1de2083bdf0>,\n",
       "  <matplotlib.lines.Line2D at 0x1de208575b0>],\n",
       " 'medians': [<matplotlib.lines.Line2D at 0x1de20849eb0>,\n",
       "  <matplotlib.lines.Line2D at 0x1de208616d0>],\n",
       " 'fliers': [<matplotlib.lines.Line2D at 0x1de20857250>,\n",
       "  <matplotlib.lines.Line2D at 0x1de20861a30>],\n",
       " 'means': []}"
      ]
     },
     "execution_count": 58,
     "metadata": {},
     "output_type": "execute_result"
    },
    {
     "data": {
      "image/png": "[encoded data removed]",
      "text/plain": [
       "<Figure size 432x288 with 1 Axes>"
      ]
     },
     "metadata": {
      "needs_background": "light"
     },
     "output_type": "display_data"
    }
   ],
   "source": [
    "plt.boxplot([df.loc[df['colour']==0]['time'], df.loc[df['colour']==1]['time']], labels=['cyan', 'yellow'])"
   ]
  },
  {
   "cell_type": "markdown",
   "metadata": {},
   "source": [
    "### Experiment\n",
    "Let $\\mu_c$ be mean reaction time for cyan, and $\\mu_y$ mean reaction time for yellow. \n",
    "\n",
    "$H_0: \\mu_c = \\mu_y$\n",
    "$H_1: \\mu_c != \\mu_y$\n",
    "\n",
    "Using Welch's T-test to accept or reject the null hypothesis. The test statistic $Z$ is\n",
    "\n",
    "$$Z \\approx \\frac{\\hat{\\mu_c} - \\hat{\\mu_y}}{\\sqrt{\\frac{\\hat{\\sigma_c}^2}{n_c} + \\frac{\\hat{\\sigma_y}^2}{n_y}}} \\sim N(0,1)$$\n",
    "\n",
    "Where the denominator is the unpooled variance, meaning no assumption of equal variance between the two groups is made. "
   ]
  },
  {
   "cell_type": "code",
   "execution_count": 76,
   "metadata": {},
   "outputs": [
    {
     "data": {
      "text/plain": [
       "[660.9444444444445, 679.6470588235294]"
      ]
     },
     "metadata": {},
     "output_type": "display_data"
    },
    {
     "data": {
      "text/plain": [
       "[202.03886411871125, 159.38669218933813]"
      ]
     },
     "metadata": {},
     "output_type": "display_data"
    },
    {
     "data": {
      "text/plain": [
       "[18.0, 17.0]"
      ]
     },
     "metadata": {},
     "output_type": "display_data"
    }
   ],
   "source": [
    "# Compute sample statistics\n",
    "c_agg = df.loc[df['colour']==0].agg({'time': ['mean', 'std', 'count']})\n",
    "y_agg = df.loc[df['colour']==1].agg({'time': ['mean', 'std', 'count']})\n",
    "\n",
    "mu_c = c_agg.loc['mean'][0]\n",
    "s_c = c_agg.loc['std'][0]\n",
    "n_c = c_agg.loc['count'][0]\n",
    "\n",
    "mu_y = y_agg.loc['mean'][0]\n",
    "s_y = y_agg.loc['std'][0]\n",
    "n_y = y_agg.loc['count'][0]\n",
    "\n",
    "\n",
    "display([mu_c, mu_y])\n",
    "display([s_c, s_y])\n",
    "display([n_c, n_y])"
   ]
  },
  {
   "cell_type": "code",
   "execution_count": 114,
   "metadata": {},
   "outputs": [
    {
     "data": {
      "text/plain": [
       "0.76042707125211"
      ]
     },
     "execution_count": 114,
     "metadata": {},
     "output_type": "execute_result"
    }
   ],
   "source": [
    "# Compute Z statistic, which should be approximately normally distributed\n",
    "Z = (mu_c - mu_y)/np.sqrt(s_c**2/n_c + s_y**2/n_y)\n",
    "p = norm.cdf(Z) # Left side p-value\n",
    "p_two = 2*p"
   ]
  },
  {
   "cell_type": "code",
   "execution_count": 117,
   "metadata": {},
   "outputs": [
    {
     "data": {
      "text/plain": [
       "<matplotlib.legend.Legend at 0x1de22a65a00>"
      ]
     },
     "execution_count": 117,
     "metadata": {},
     "output_type": "execute_result"
    },
    {
     "data": {
      "image/png": "[encoded data removed]",
      "text/plain": [
       "<Figure size 432x288 with 1 Axes>"
      ]
     },
     "metadata": {
      "needs_background": "light"
     },
     "output_type": "display_data"
    }
   ],
   "source": [
    "rng = np.arange(-3, 3, 0.1)\n",
    "plt.plot(rng, norm.pdf(rng), label='pdf')\n",
    "plt.vlines([norm.ppf(0.975)], ymin=0, ymax=norm.pdf(norm.ppf(0.975)), linestyles='dashed', label='alpha = 0.975', color='red')\n",
    "plt.vlines([norm.ppf(0.025)], ymin=0, ymax=norm.pdf(norm.ppf(0.025)), linestyles='dashed', label='alpha = 0.025', color='red')\n",
    "plt.vlines([norm.ppf(p)], ymin=0, ymax=norm.pdf(norm.ppf(p)), linestyles='dashed', label='left tail p')\n",
    "plt.vlines([norm.ppf(1-p)], ymin=0, ymax=norm.pdf(norm.ppf(1-p)), linestyles='dashed', label='right tail p')\n",
    "plt.legend()"
   ]
  },
  {
   "cell_type": "markdown",
   "metadata": {},
   "source": [
    "### Results\n",
    "Null hypothesis can clearly not be rejected, as the p-value for the two sided test is 0.76."
   ]
  }
 ],
 "metadata": {
  "kernelspec": {
   "display_name": "Python 3",
   "language": "python",
   "name": "python3"
  },
  "language_info": {
   "codemirror_mode": {
    "name": "ipython",
    "version": 3
   },
   "file_extension": ".py",
   "mimetype": "text/x-python",
   "name": "python",
   "nbconvert_exporter": "python",
   "pygments_lexer": "ipython3",
   "version": "3.8.5"
  }
 },
 "nbformat": 4,
 "nbformat_minor": 4
}
