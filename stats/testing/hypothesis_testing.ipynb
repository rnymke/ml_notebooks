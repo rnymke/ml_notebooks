{
 "cells": [
  {
   "cell_type": "code",
   "execution_count": 271,
   "metadata": {},
   "outputs": [],
   "source": [
    "import numpy as np\n",
    "from scipy.stats import norm, chi2, chi2_contingency, chisquare\n",
    "import matplotlib.pyplot as plt"
   ]
  },
  {
   "cell_type": "code",
   "execution_count": 272,
   "metadata": {},
   "outputs": [],
   "source": [
    "# Sample mean\n",
    "mu_A = 60\n",
    "mu_B = 62\n",
    "# Sample std\n",
    "s_A = 40\n",
    "s_B = 45\n",
    "# Sample num\n",
    "n_A = 6000\n",
    "n_B = 4000\n",
    "## Sample target (conversion rate %)\n",
    "#cr_A = 1.5\n",
    "#cr_B = 2"
   ]
  },
  {
   "cell_type": "markdown",
   "metadata": {},
   "source": [
    "# Z-test (or Welch's T-test really..), for continuous variable.\n",
    "\n",
    "The goal here is to determine if group A spends less time on average than group B. This is done using the Z-test, which is suitable for higher sample sizes (often n>30 per group is cited), as it has to hold that the sample means/stds are sufficiently close to the true mean/stds which may not be the case for lower sample sizes. In any case, our hypothesis are as follows:\n",
    "\n",
    "$H_0$: average time spent for group A is the same as the average time spent for group B.\n",
    "\n",
    "$H_1$: average time spent for group A is less than that of group B.\n",
    "\n",
    "Via central limit theorem the mean for A and B can be approximated as\n",
    "\n",
    "$$\\mu(n_A, A) \\sim N\\bigg(\\mu_A, \\frac{\\sigma_A^2}{n_A}\\bigg)$$\n",
    "$$\\mu(n_B, B) \\sim N\\bigg(\\mu_B, \\frac{\\sigma_A^2}{n_B}\\bigg)$$\n",
    "\n",
    "Under $H_0$ we have that $\\mu_A - \\mu_B = 0$, thus we can write\n",
    "\n",
    "$$\\mu(n_A, A) - \\mu(n_B, B) \\sim N\\bigg(\\mu_A - \\mu_B, \\frac{\\sigma_A^2}{n_A} + \\frac{\\sigma_B^2}{n_B}\\bigg) = N\\bigg(0, \\frac{\\sigma_A^2}{n_A} + \\frac{\\sigma_B^2}{n_B}\\bigg)$$\n",
    "\n",
    "$$ \\implies \\frac{\\mu(n_A, A) - \\mu(n_B, B)}{\\sqrt{\\frac{\\sigma_A^2}{n_A} + \\frac{\\sigma_B^2}{n_B}}} \\sim N(0, 1)$$\n",
    "\n",
    "This is the Z-statistic, but when $\\mu_A$, $\\mu_B$, $\\sigma_A$ and $\\sigma_B$ are approximated via those of their respective samples. \n",
    "\n",
    "To clarify, if $a_i$ is one realization of time taken within group A then\n",
    "\n",
    "$$\\mu_A \\approx \\frac{1}{n_A} \\sum_i a_i = \\hat{\\mu_A}$$\n",
    "$$\\sigma_A \\approx \\frac{1}{n_A} \\sum_i (\\hat{\\mu_A} - a_i)^2 = \\hat{\\sigma_A}$$\n",
    "\n",
    "So we have\n",
    "\n",
    "$$Z \\approx \\frac{\\hat{\\mu_B} - \\hat{\\mu_A}}{\\sqrt{\\frac{\\hat{\\sigma_A}^2}{n_A} + \\frac{\\hat{\\sigma_B}^2}{n_B}}}$$\n",
    "\n",
    "For the alternative hypothesis to hold we expect a positive value of Z in this case. The Z-value be interpreted as number of standard deviations the difference of means is from 0, so higher Z implies lower likelihood of $H_0$.\n",
    "\n",
    "\n",
    "\n",
    "Note that this is using unpooled variances and is not following the assumption that the means are equal, as that also implies the sigmas are equal as we know that $\\sigma^2 = \\mu*(1-\\mu)$ for Bernoulli distributions. By using unpooled variances we are conducting Welch's T-test, where the variances are not assumed to be equal in A and B. But from our null hypothesis\n",
    "\n",
    "$$\\sigma^2 = \\mu(1-\\mu)$$\n",
    "\n",
    "\n",
    "$$Z \\approx \\frac{\\hat{\\mu_B} - \\hat{\\mu_A}}{\\sqrt{\\sigma^2(\\frac{1}{n_A} + \\frac{1}{n_B})}}$$"
   ]
  },
  {
   "cell_type": "code",
   "execution_count": 259,
   "metadata": {},
   "outputs": [
    {
     "name": "stdout",
     "output_type": "stream",
     "text": [
      "Z-value is: 2.2749070654279993\n",
      "p is: 0.0115, thus null hypothesis is rejected for alpha = 5%\n"
     ]
    }
   ],
   "source": [
    "# Unpooled variance, aka Welch's T-test\n",
    "Z = (mu_B - mu_A)/(np.sqrt((s_A**2)/n_A + (s_B**2)/n_B))\n",
    "\n",
    "p = 1-norm.cdf(Z)\n",
    "print(f\"Z-value is: {Z}\")\n",
    "print(f\"p is: {np.round(p,4)}, thus null hypothesis is rejected for alpha = 5%\")"
   ]
  },
  {
   "cell_type": "code",
   "execution_count": 78,
   "metadata": {},
   "outputs": [
    {
     "data": {
      "text/plain": [
       "<matplotlib.legend.Legend at 0x1ac27c4bd30>"
      ]
     },
     "execution_count": 78,
     "metadata": {},
     "output_type": "execute_result"
    },
    {
     "data": {
      "image/png": "[encoded data removed]",
      "text/plain": [
       "<Figure size 432x288 with 1 Axes>"
      ]
     },
     "metadata": {
      "needs_background": "light"
     },
     "output_type": "display_data"
    }
   ],
   "source": [
    "z = np.arange(-3, 3, 0.1)\n",
    "plt.plot(z, norm.pdf(z), label = 'pdf of Z')  \n",
    "plt.fill_between(z[z > Z], norm.pdf(z[z > Z]), label='p val') # TODO: switch alpha to fill and z to vline because it's stupid to have it this way\n",
    "plt.vlines([norm.ppf(0.95)], ymin=0, ymax=norm.pdf(norm.ppf(0.95)), linestyles='dashed', label='alpha = 0.5', color='red')\n",
    "plt.legend()"
   ]
  },
  {
   "cell_type": "markdown",
   "metadata": {},
   "source": [
    "### Confidence interval\n",
    "We can also compute the confidence interval for the mean via\n",
    "\n",
    "$$CI = \\bar{\\mu} \\pm z^*\\frac{s}{\\sqrt{n}}$$\n",
    "\n",
    "where $\\bar{\\mu}$ is the sample mean, $s$ is the sample standard deviation and $n$ the sample size. $z^*$ is the appropriate z-value from a standard normal distribution table for the desired confidence interval. $z^* = 1.96$ yields a 95% confidence interval, as 1.96 standard deviations cover 95% of the area of the pdf.\n",
    "\n",
    "Notably there is quite some bit of overlap in the confidence intervals."
   ]
  },
  {
   "cell_type": "code",
   "execution_count": 250,
   "metadata": {},
   "outputs": [
    {
     "data": {
      "text/plain": [
       "[58.98786035219113, 61.01213964780887]"
      ]
     },
     "metadata": {},
     "output_type": "display_data"
    },
    {
     "data": {
      "text/plain": [
       "[60.605435551865746, 63.394564448134254]"
      ]
     },
     "metadata": {},
     "output_type": "display_data"
    },
    {
     "data": {
      "text/plain": [
       "(0.9, 1.2, 57.975720704382255, 64.78912889626851)"
      ]
     },
     "execution_count": 250,
     "metadata": {},
     "output_type": "execute_result"
    },
    {
     "data": {
      "image/png": "[encoded data removed]",
      "text/plain": [
       "<Figure size 432x288 with 1 Axes>"
      ]
     },
     "metadata": {
      "needs_background": "light"
     },
     "output_type": "display_data"
    }
   ],
   "source": [
    "err_A = 1.96*s_A/np.sqrt(n_A)\n",
    "err_B = 1.96*s_B/np.sqrt(n_B)\n",
    "CI_A = [mu_A-err_A, mu_A+err_A]\n",
    "CI_B = [mu_B-err_B, mu_B+err_B]\n",
    "\n",
    "display(CI_A)\n",
    "display(CI_B)\n",
    "\n",
    "\n",
    "plt.errorbar(x=[1, 1.1], y=[mu_A, mu_B], yerr=[err_A, err_B], capsize=5, markersize=10, marker=\"s\", ls='none')\n",
    "plt.axis([0.9, 1.2, mu_A-err_A*2, mu_B+err_B*2])"
   ]
  },
  {
   "cell_type": "markdown",
   "metadata": {},
   "source": [
    "# Chi^2 test for conversion rate.\n",
    "\n",
    "$H_0$: Conversion rate is the same.\n",
    "\n",
    "$H_1$: Conversion rate is lower or higher in B.\n",
    "\n",
    "Under $H_0$ conversion rate should be \n",
    "\n",
    "$$cr_{exp} = \\frac{conv_A + conv_B}{conv_A + nonconv_A + conv_B + nonconv_B}$$\n",
    "\n",
    "Which can be used to compute expected conversions in both A and B, for example\n",
    "\n",
    "$$conv_{A,expected} = cr_{exp} \\cdot n_A$$\n",
    "\n",
    "Then the RV defined as\n",
    "\n",
    "$$D = \\sum_{conv \\in \\{0,1\\}, sample \\in \\{A, B\\}} \\frac{(O_{sample, conv} - T_{sample, conv})^2}{T_{sample,conv}}  $$\n",
    "\n",
    "Follows a Chi squared distribution with 1 degree of freedom (computed by len([conv, nonconv] - 1)). If $H_0$ is true the relative squared difference described in $D$ should be small.\n",
    "\n"
   ]
  },
  {
   "cell_type": "code",
   "execution_count": 183,
   "metadata": {},
   "outputs": [],
   "source": [
    "# Observed\n",
    "conv_A = 90\n",
    "nonconv_A = 5910\n",
    "\n",
    "conv_B = 80\n",
    "nonconv_B = 3920\n",
    "\n",
    "# Expected\n",
    "cr_exp = (conv_A+conv_B) / (n_A + n_B)\n",
    "\n",
    "conv_A_exp = int(cr_exp*n_A)\n",
    "nonconv_A_exp = n_A-conv_A_exp\n",
    "\n",
    "conv_B_exp = int(cr_exp*n_B)\n",
    "nonconv_B_exp = n_B-conv_B_exp"
   ]
  },
  {
   "cell_type": "code",
   "execution_count": 299,
   "metadata": {},
   "outputs": [
    {
     "name": "stdout",
     "output_type": "stream",
     "text": [
      "p is: 0.0291, thus null hypothesis is rejected for alpha = 5%. p value is adjusted by 0.5 here due to only testing one side in the non squared distribution\n"
     ]
    }
   ],
   "source": [
    "# Compute D\n",
    "T = np.array([conv_A_exp, conv_B_exp, nonconv_A_exp, nonconv_B_exp])\n",
    "O = np.array([conv_A, conv_B, nonconv_A, nonconv_B])\n",
    "\n",
    "D = np.sum(np.square([T - O])/T)\n",
    "pval = (1-chi2.cdf(D, df=1))/2\n",
    "\n",
    "print(f\"p is: {np.round(pval,4)/1}, thus null hypothesis is rejected for alpha = 5%. p value is adjusted by 0.5 here due to only testing one side in the non squared distribution\")"
   ]
  },
  {
   "cell_type": "code",
   "execution_count": 300,
   "metadata": {},
   "outputs": [
    {
     "data": {
      "image/png": "[encoded data removed]",
      "text/plain": [
       "<Figure size 432x288 with 1 Axes>"
      ]
     },
     "metadata": {
      "needs_background": "light"
     },
     "output_type": "display_data"
    }
   ],
   "source": [
    "d = np.arange(0, 5, 0.1)\n",
    "plt.plot(d, chi2.pdf(d, df=1))\n",
    "plt.fill_between(d[d>D], chi2.pdf(d[d>D], df=1), label='p val')\n",
    "plt.vlines([chi2.ppf(0.95,df=1)], ymin=0, ymax=chi2.pdf(chi2.ppf(0.95,df=1),df=1), linestyles='dashed', label='alpha = 0.5', color='red')\n",
    "plt.legend()\n",
    "plt.show()"
   ]
  },
  {
   "cell_type": "markdown",
   "metadata": {},
   "source": [
    "This plot is a bit off, with no adjustments due to the two-sidedness of the chi squared test. For a two sided test we would reject the hypothesis, but this does not describe the problem we are actually solving. To be fixed at some point.."
   ]
  },
  {
   "cell_type": "code",
   "execution_count": 269,
   "metadata": {},
   "outputs": [
    {
     "name": "stdout",
     "output_type": "stream",
     "text": [
      "p is: 0.0327, thus null hypothesis is rejected for alpha = 5%. Not using pooled variance.\n"
     ]
    }
   ],
   "source": [
    "# Z-test for conversion, nonpooled var\n",
    "# Sample mean\n",
    "mu_A_conv = conv_A/n_A\n",
    "mu_B_conv = conv_B/n_B\n",
    "# Sample std\n",
    "s_A_conv = mu_A_conv*(1-mu_A_conv)\n",
    "s_B_conv = mu_B_conv*(1-mu_B_conv)\n",
    "\n",
    "Z_conv = (mu_B_conv - mu_A_conv)/np.sqrt(s_B_conv/n_B + s_A_conv/n_A)\n",
    "\n",
    "p_conv = 1-norm.cdf(Z_conv)\n",
    "print(f\"p is: {np.round(p_conv,4)}, thus null hypothesis is rejected for alpha = 5%. Not using pooled variance.\")"
   ]
  },
  {
   "cell_type": "code",
   "execution_count": 304,
   "metadata": {},
   "outputs": [
    {
     "name": "stdout",
     "output_type": "stream",
     "text": [
      "p is: 0.0291, thus null hypothesis is rejected for alpha = 5%. Using \"exact\" variance computed from population mean of both A and B.\n"
     ]
    }
   ],
   "source": [
    "# Z-test for conversion, pooled var\n",
    "# Sample mean\n",
    "mu_A_conv = conv_A/n_A\n",
    "mu_B_conv = conv_B/n_B\n",
    "# Var (pooled)\n",
    "var = cr_exp*(1-cr_exp)*(1/n_A + 1/n_B)\n",
    "\n",
    "Z_conv = (mu_B_conv - mu_A_conv)/np.sqrt(var)\n",
    "\n",
    "p_conv = 1-norm.cdf(Z_conv)\n",
    "print(f\"p is: {np.round(p_conv,4)}, thus null hypothesis is rejected for alpha = 5%. Using \\\"exact\\\" variance computed from population mean of both A and B.\")"
   ]
  }
 ],
 "metadata": {
  "kernelspec": {
   "display_name": "Python 3",
   "language": "python",
   "name": "python3"
  },
  "language_info": {
   "codemirror_mode": {
    "name": "ipython",
    "version": 3
   },
   "file_extension": ".py",
   "mimetype": "text/x-python",
   "name": "python",
   "nbconvert_exporter": "python",
   "pygments_lexer": "ipython3",
   "version": "3.8.5"
  }
 },
 "nbformat": 4,
 "nbformat_minor": 4
}
