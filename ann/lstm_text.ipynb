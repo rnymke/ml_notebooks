{
 "cells": [
  {
   "cell_type": "code",
   "execution_count": 1,
   "metadata": {},
   "outputs": [],
   "source": [
    "import numpy as np\n",
    "import torch\n",
    "from torch import nn\n",
    "import torch.nn.functional as F"
   ]
  },
  {
   "cell_type": "code",
   "execution_count": 26,
   "metadata": {},
   "outputs": [],
   "source": [
    "with open('anna.txt') as f:\n",
    "    text_raw = f.read()"
   ]
  },
  {
   "cell_type": "code",
   "execution_count": 33,
   "metadata": {},
   "outputs": [
    {
     "name": "stdout",
     "output_type": "stream",
     "text": [
      "Found end of text at line 39888. \n",
      "Line: *** END OF THIS PROJECT GUTENBERG EBOOK ANNA KARENINA ***.\n"
     ]
    }
   ],
   "source": [
    "# Remove legal info from text\n",
    "splt = text_raw.splitlines()\n",
    "index = -1\n",
    "\n",
    "for ind, line in enumerate(splt):\n",
    "    if \"GUTENBERG\" in line:\n",
    "        print(f\"Found end of text at line {ind}. \\nLine: {line}.\")\n",
    "        index = ind\n",
    "        break\n",
    "else:\n",
    "    print(\"Didn't find end\")\n",
    "\n",
    "splt = splt[:index-1]\n",
    "text = \"\\n\".join(splt)"
   ]
  },
  {
   "cell_type": "code",
   "execution_count": 118,
   "metadata": {},
   "outputs": [
    {
     "name": "stdout",
     "output_type": "stream",
     "text": [
      "[[1. 0. 0.]\n",
      " [0. 1. 0.]\n",
      " [0. 0. 1.]]\n"
     ]
    }
   ],
   "source": [
    "\"\"\"\n",
    "One-hot-encoding of array of integers, array = [0,1,2], num_labels = 3, should return 3x3 identity matrix\n",
    "\"\"\"\n",
    "def one_hot_encode(array, num_labels):\n",
    "    out = np.zeros((array.size, num_labels))\n",
    "    for n in range(0, array.size):\n",
    "        out[n, array[n]] = 1\n",
    "    return out\n",
    "\n",
    "array = np.array([0,1,2])\n",
    "print(one_hot_encode(array, 3))"
   ]
  },
  {
   "cell_type": "code",
   "execution_count": 86,
   "metadata": {},
   "outputs": [],
   "source": [
    "\"\"\"\n",
    "From array, generates batches with given batch size and sequence length. \n",
    "Returns batches x, y, where y is x offset by 1\n",
    "\"\"\"\n",
    "def gen_batches(array, batch_size, sequence_length):\n",
    "    num_per_batch = batch_size*sequence_length\n",
    "    num_batches= len(array) // num_per_batch\n",
    "    array = array[:num_batches*num_per_batch]\n",
    "    array = array.reshape(batch_size, -1)\n",
    "\n",
    "    for n in range(0, num_batches):\n",
    "        x = array[:, n*sequence_length:(n+1)*sequence_length]\n",
    "        y = array[:, n*sequence_length+1:(n+1)*sequence_length+1]\n",
    "        if len(x[-1]) != len(y[-1]): # Disregard last sequence as num characters differ between x and y\n",
    "            break\n",
    "        yield x, y"
   ]
  },
  {
   "cell_type": "code",
   "execution_count": null,
   "metadata": {},
   "outputs": [],
   "source": []
  },
  {
   "cell_type": "code",
   "execution_count": 90,
   "metadata": {},
   "outputs": [
    {
     "data": {
      "text/plain": [
       "<generator object gen_batches at 0x0000025ACF8D0900>"
      ]
     },
     "execution_count": 90,
     "metadata": {},
     "output_type": "execute_result"
    }
   ],
   "source": [
    "chars = set(text)\n",
    "nums = range(0,len(chars))\n",
    "char2num = dict(zip(chars,nums))\n",
    "num2char = dict(zip(nums,chars))"
   ]
  }
 ],
 "metadata": {
  "kernelspec": {
   "display_name": "Python 3",
   "language": "python",
   "name": "python3"
  },
  "language_info": {
   "codemirror_mode": {
    "name": "ipython",
    "version": 3
   },
   "file_extension": ".py",
   "mimetype": "text/x-python",
   "name": "python",
   "nbconvert_exporter": "python",
   "pygments_lexer": "ipython3",
   "version": "3.8.5"
  }
 },
 "nbformat": 4,
 "nbformat_minor": 4
}
